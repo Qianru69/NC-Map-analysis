{
 "cells": [
  {
   "cell_type": "code",
   "execution_count": 1,
   "metadata": {},
   "outputs": [],
   "source": [
    "import numpy as np\n",
    "import matplotlib.pyplot as plt\n",
    "import pickle\n",
    "import pandas as pd\n",
    "import seaborn as sns\n",
    "from gerrychain import Graph, GeographicPartition, Partition, Election, accept\n",
    "from gerrychain.updaters import Tally, cut_edges\n",
    "import glob\n",
    "import functools\n",
    "import operator"
   ]
  },
  {
   "cell_type": "markdown",
   "metadata": {},
   "source": []
  },
  {
   "cell_type": "code",
   "execution_count": 2,
   "metadata": {},
   "outputs": [],
   "source": [
    "def foldl(func, acc, xs):\n",
    "  return functools.reduce(func, xs, acc)\n",
    "\n",
    "foldr = lambda func, acc, xs: functools.reduce(lambda x, y: func(y, x), xs[::-1], acc)"
   ]
  },
  {
   "cell_type": "markdown",
   "metadata": {},
   "source": [
    "## Import NC results"
   ]
  },
  {
   "cell_type": "code",
   "execution_count": 3,
   "metadata": {},
   "outputs": [],
   "source": [
    "def get_state_runs(state, seats, iters=1000, pop_bal=2.0, min_col=\"nWVAP\",\n",
    "                   ls=[2,5,10,20,40,80], ps=[0.25, 0.125, 0.0625]):\n",
    "    results = {}\n",
    "\n",
    "    for l in ls:\n",
    "        sb_runs = glob.glob(\"./data/states/{}_dists{}_{}opt_{}%_1000_sbl{}_score0_*.npy\".format(state, seats, \n",
    "                                                                                                min_col, pop_bal, l))\n",
    "        results[str(l)] = np.zeros((len(sb_runs), iters))\n",
    "        for i, run in enumerate(sb_runs):\n",
    "            results[str(l)][i] = np.load(run).flatten()\n",
    "    for p in ps:\n",
    "        tilt_runs = glob.glob(\"./data/states/{}_dists{}_{}opt_{}%_1000_p{}_*.npy\".format(state, seats, \n",
    "                                                                                         min_col, pop_bal, p))\n",
    "        results[str(p)] = np.zeros((len(tilt_runs), iters))\n",
    "        for i, run in enumerate(tilt_runs):\n",
    "            results[str(p)][i] = np.load(run).flatten()\n",
    "    return results"
   ]
  },
  {
   "cell_type": "code",
   "execution_count": 4,
   "metadata": {},
   "outputs": [],
   "source": [
    "def create_state_df(runs, iters=1000):\n",
    "    df_st = pd.DataFrame()\n",
    "    for l in runs.keys():\n",
    "        for i in range(runs[l].shape[0]):\n",
    "            df = pd.DataFrame()\n",
    "            df[\"Step\"] = np.arange(iters)\n",
    "            df[\"Maximum\"] = np.maximum.accumulate(runs[l][i].flatten())\n",
    "            df[\"run-type\"] = \"Short Burst\" if float(l) > 1 else \"Biased Run\" if float(l) < 1 else \"Unbiased Run\"\n",
    "            df[\"param\"] = \"b = {}\".format(l) if float(l) > 1 else \"q = {}\".format(l)\n",
    "            df_st = pd.concat([df, df_st], ignore_index=True)\n",
    "    return df_st"
   ]
  },
  {
   "cell_type": "code",
   "execution_count": 5,
   "metadata": {
    "scrolled": true
   },
   "outputs": [
    {
     "name": "stdout",
     "output_type": "stream",
     "text": [
      "2: 500\n",
      "2: 500\n",
      "2: 500\n",
      "2: 500\n",
      "2: 500\n",
      "2: 500\n",
      "2: 500\n",
      "2: 500\n",
      "2: 500\n",
      "2: 500\n",
      "5: 500\n",
      "5: 500\n",
      "5: 500\n",
      "5: 500\n",
      "5: 500\n",
      "5: 500\n",
      "5: 500\n",
      "5: 500\n",
      "5: 500\n",
      "5: 500\n",
      "10: 500\n",
      "10: 500\n",
      "10: 500\n",
      "10: 500\n",
      "10: 500\n",
      "10: 500\n",
      "10: 500\n",
      "10: 500\n",
      "10: 500\n",
      "10: 500\n",
      "25: 500\n",
      "25: 500\n",
      "25: 500\n",
      "25: 500\n",
      "25: 500\n",
      "25: 500\n",
      "25: 500\n",
      "25: 500\n",
      "25: 500\n",
      "25: 500\n",
      "50: 500\n",
      "50: 500\n",
      "50: 500\n",
      "50: 500\n",
      "50: 500\n",
      "50: 500\n",
      "50: 500\n",
      "50: 500\n",
      "50: 500\n",
      "50: 500\n",
      "100: 500\n",
      "100: 500\n",
      "100: 500\n",
      "100: 500\n",
      "100: 500\n",
      "100: 500\n",
      "100: 500\n",
      "100: 500\n",
      "100: 500\n",
      "100: 500\n",
      "200: 400\n"
     ]
    },
    {
     "ename": "ValueError",
     "evalue": "could not broadcast input array from shape (400,) into shape (500,)",
     "output_type": "error",
     "traceback": [
      "\u001b[0;31m---------------------------------------------------------------------------\u001b[0m",
      "\u001b[0;31mValueError\u001b[0m                                Traceback (most recent call last)",
      "Cell \u001b[0;32mIn[5], line 1\u001b[0m\n\u001b[0;32m----> 1\u001b[0m la_runs_bvap \u001b[38;5;241m=\u001b[39m get_state_runs(\u001b[38;5;124m\"\u001b[39m\u001b[38;5;124mLA\u001b[39m\u001b[38;5;124m\"\u001b[39m, \u001b[38;5;241m105\u001b[39m, ls\u001b[38;5;241m=\u001b[39m[\u001b[38;5;241m2\u001b[39m,\u001b[38;5;241m5\u001b[39m,\u001b[38;5;241m10\u001b[39m,\u001b[38;5;241m25\u001b[39m,\u001b[38;5;241m50\u001b[39m,\u001b[38;5;241m100\u001b[39m,\u001b[38;5;241m200\u001b[39m], \n\u001b[1;32m      2\u001b[0m                               pop_bal\u001b[38;5;241m=\u001b[39m\u001b[38;5;241m4.5\u001b[39m, min_col\u001b[38;5;241m=\u001b[39m\u001b[38;5;124m\"\u001b[39m\u001b[38;5;124mBVAP\u001b[39m\u001b[38;5;124m\"\u001b[39m)\n\u001b[1;32m      3\u001b[0m la_runs_hvap \u001b[38;5;241m=\u001b[39m get_state_runs(\u001b[38;5;124m\"\u001b[39m\u001b[38;5;124mLA\u001b[39m\u001b[38;5;124m\"\u001b[39m, \u001b[38;5;241m105\u001b[39m, ls\u001b[38;5;241m=\u001b[39m[\u001b[38;5;241m2\u001b[39m,\u001b[38;5;241m5\u001b[39m,\u001b[38;5;241m10\u001b[39m,\u001b[38;5;241m25\u001b[39m,\u001b[38;5;241m50\u001b[39m,\u001b[38;5;241m100\u001b[39m,\u001b[38;5;241m200\u001b[39m],\n\u001b[1;32m      4\u001b[0m                               pop_bal\u001b[38;5;241m=\u001b[39m\u001b[38;5;241m4.5\u001b[39m, min_col\u001b[38;5;241m=\u001b[39m\u001b[38;5;124m\"\u001b[39m\u001b[38;5;124mHVAP\u001b[39m\u001b[38;5;124m\"\u001b[39m)\n\u001b[1;32m      5\u001b[0m la_runs_nwvap \u001b[38;5;241m=\u001b[39m get_state_runs(\u001b[38;5;124m\"\u001b[39m\u001b[38;5;124mLA\u001b[39m\u001b[38;5;124m\"\u001b[39m, \u001b[38;5;241m105\u001b[39m, ls\u001b[38;5;241m=\u001b[39m[\u001b[38;5;241m2\u001b[39m,\u001b[38;5;241m5\u001b[39m,\u001b[38;5;241m10\u001b[39m,\u001b[38;5;241m25\u001b[39m,\u001b[38;5;241m50\u001b[39m,\u001b[38;5;241m100\u001b[39m,\u001b[38;5;241m200\u001b[39m],\n\u001b[1;32m      6\u001b[0m                                pop_bal\u001b[38;5;241m=\u001b[39m\u001b[38;5;241m4.5\u001b[39m, min_col\u001b[38;5;241m=\u001b[39m\u001b[38;5;124m\"\u001b[39m\u001b[38;5;124mnWVAP\u001b[39m\u001b[38;5;124m\"\u001b[39m)\n",
      "Cell \u001b[0;32mIn[3], line 11\u001b[0m, in \u001b[0;36mget_state_runs\u001b[0;34m(state, seats, iters, pop_bal, min_col, ls, ps)\u001b[0m\n\u001b[1;32m      9\u001b[0m     \u001b[38;5;28;01mfor\u001b[39;00m i, run \u001b[38;5;129;01min\u001b[39;00m \u001b[38;5;28menumerate\u001b[39m(sb_runs):\n\u001b[1;32m     10\u001b[0m         \u001b[38;5;28mprint\u001b[39m(\u001b[38;5;124mf\u001b[39m\u001b[38;5;124m\"\u001b[39m\u001b[38;5;132;01m{\u001b[39;00ml\u001b[38;5;132;01m}\u001b[39;00m\u001b[38;5;124m: \u001b[39m\u001b[38;5;132;01m{\u001b[39;00mnp\u001b[38;5;241m.\u001b[39mload(run)\u001b[38;5;241m.\u001b[39mflatten()\u001b[38;5;241m.\u001b[39msize\u001b[38;5;132;01m}\u001b[39;00m\u001b[38;5;124m\"\u001b[39m)\n\u001b[0;32m---> 11\u001b[0m         results[\u001b[38;5;28mstr\u001b[39m(l)][i] \u001b[38;5;241m=\u001b[39m np\u001b[38;5;241m.\u001b[39mload(run)\u001b[38;5;241m.\u001b[39mflatten()\n\u001b[1;32m     12\u001b[0m \u001b[38;5;28;01mfor\u001b[39;00m p \u001b[38;5;129;01min\u001b[39;00m ps:\n\u001b[1;32m     13\u001b[0m     tilt_runs \u001b[38;5;241m=\u001b[39m glob\u001b[38;5;241m.\u001b[39mglob(\u001b[38;5;124m\"\u001b[39m\u001b[38;5;124m./data/states/\u001b[39m\u001b[38;5;132;01m{}\u001b[39;00m\u001b[38;5;124m_dists\u001b[39m\u001b[38;5;132;01m{}\u001b[39;00m\u001b[38;5;124m_\u001b[39m\u001b[38;5;132;01m{}\u001b[39;00m\u001b[38;5;124mopt_\u001b[39m\u001b[38;5;132;01m{}\u001b[39;00m\u001b[38;5;124m%\u001b[39m\u001b[38;5;124m_500_p\u001b[39m\u001b[38;5;132;01m{}\u001b[39;00m\u001b[38;5;124m_*.npy\u001b[39m\u001b[38;5;124m\"\u001b[39m\u001b[38;5;241m.\u001b[39mformat(state, seats, \n\u001b[1;32m     14\u001b[0m                                                                                      min_col, pop_bal, p))\n",
      "\u001b[0;31mValueError\u001b[0m: could not broadcast input array from shape (400,) into shape (500,)"
     ]
    }
   ],
   "source": [
    "la_runs_bvap = get_state_runs(\"NC\", 105, ls=[2,5,10,25,50,100,200], \n",
    "                              pop_bal=4.5, min_col=\"BVAP\")\n",
    "la_runs_hvap = get_state_runs(\"NC\", 105, ls=[2,5,10,25,50,100,200],\n",
    "                              pop_bal=4.5, min_col=\"HVAP\")\n",
    "la_runs_nwvap = get_state_runs(\"NC\", 105, ls=[2,5,10,25,50,100,200],\n",
    "                               pop_bal=4.5, min_col=\"nWVAP\")"
   ]
  },
  {
   "cell_type": "code",
   "execution_count": null,
   "metadata": {},
   "outputs": [],
   "source": [
    "ubs = glob.glob(\"./data/unbiased_NC/NC_dists105_4.5%_1000_unbiased_*.p\")\n",
    "ub_runs = {}\n",
    "for i, run in enumerate(ubs):\n",
    "     with open(run, \"rb\") as f:\n",
    "        ub_runs[i] = pickle.load(f)"
   ]
  },
  {
   "cell_type": "code",
   "execution_count": null,
   "metadata": {},
   "outputs": [],
   "source": [
    "runs = list(ub_runs.values())\n",
    "bvap = foldl(lambda x,y: np.concatenate((x,y[\"BVAP\"]), axis=0), runs[0][\"BVAP\"], runs[1:])\n",
    "hvap = foldl(lambda x,y: np.concatenate((x,y[\"HVAP\"]), axis=0), runs[0][\"HVAP\"], runs[1:])\n",
    "wvap = foldl(lambda x,y: np.concatenate((x,y[\"WVAP\"]), axis=0), runs[0][\"WVAP\"], runs[1:])"
   ]
  },
  {
   "cell_type": "code",
   "execution_count": null,
   "metadata": {},
   "outputs": [],
   "source": [
    "runs"
   ]
  },
  {
   "cell_type": "code",
   "execution_count": null,
   "metadata": {},
   "outputs": [],
   "source": [
    "la_runs_bvap['1'] = (bvap.reshape((10, 1000, 105)) > 0.5).sum(axis=2)\n",
    "la_runs_hvap['1'] = (hvap.reshape((10, 1000, 105)) > 0.5).sum(axis=2)\n",
    "la_runs_nwvap['1'] = (wvap.reshape((10, 1000, 105)) < 0.5).sum(axis=2)"
   ]
  },
  {
   "cell_type": "code",
   "execution_count": null,
   "metadata": {},
   "outputs": [],
   "source": [
    "df_NC_bvap = create_state_df(la_runs_bvap)\n",
    "df_NC_hvap = create_state_df(la_runs_hvap)\n",
    "df_NC_nwvap = create_state_df(la_runs_nwvap)"
   ]
  },
  {
   "cell_type": "code",
   "execution_count": null,
   "metadata": {},
   "outputs": [],
   "source": []
  },
  {
   "cell_type": "code",
   "execution_count": null,
   "metadata": {},
   "outputs": [],
   "source": []
  },
  {
   "cell_type": "code",
   "execution_count": null,
   "metadata": {},
   "outputs": [],
   "source": []
  },
  {
   "cell_type": "code",
   "execution_count": null,
   "metadata": {},
   "outputs": [],
   "source": []
  },
  {
   "cell_type": "markdown",
   "metadata": {},
   "source": [
    "## Get Neutral Ensemble Baseline"
   ]
  },
  {
   "cell_type": "code",
   "execution_count": null,
   "metadata": {},
   "outputs": [],
   "source": [
    "majority_bvap_dists = list(map(lambda p: np.sum(p > 0.5), bvap))"
   ]
  },
  {
   "cell_type": "code",
   "execution_count": null,
   "metadata": {},
   "outputs": [],
   "source": [
    "max(majority_bvap_dists)"
   ]
  },
  {
   "cell_type": "code",
   "execution_count": null,
   "metadata": {},
   "outputs": [],
   "source": [
    "plt.figure(figsize=(8,6))\n",
    "plt.hist(majority_bvap_dists, bins=np.arange(5,22) - 0.5, alpha=0.5)\n",
    "plt.title(\"NC Congressional Gingles Districts\", fontsize=20)\n",
    "plt.xlabel(\"Number of majority-BVAP districts\", fontsize=18)\n",
    "plt.savefig(\"./plots/unbiased_hist.png\", dpi=200, bbox_inches='tight')\n",
    "plt.show()"
   ]
  },
  {
   "cell_type": "code",
   "execution_count": null,
   "metadata": {},
   "outputs": [],
   "source": [
    "plt.figure(figsize=(12,6))\n",
    "plt.boxplot(bvap[:,65:], whis=(1,99), showfliers=False)\n",
    "plt.axhspan(0.40, 0.50, color=\"limegreen\", alpha=0.15, zorder=0)\n",
    "plt.title(\"BVAP in NC Congressional Districts\", fontsize=20)\n",
    "plt.xlabel(\"Indexed Districts\", fontsize=18)\n",
    "plt.ylabel(\"BVAP / VAP\", fontsize=18)\n",
    "plt.savefig(\"./plots/unbiased_boxplot.png\", dpi=200, bbox_inches='tight')\n",
    "plt.show()"
   ]
  },
  {
   "cell_type": "code",
   "execution_count": null,
   "metadata": {},
   "outputs": [],
   "source": [
    "plt.figure(figsize=(12,6))\n",
    "plt.boxplot(hvap[:,65:], whis=(1,99), showfliers=False)\n",
    "plt.axhspan(0.40, 0.50, color=\"limegreen\", alpha=0.15, zorder=0)\n",
    "plt.title(\"HVAP in NC Congressional Districts\")\n",
    "plt.xlabel(\"Indexed Districts\")\n",
    "plt.ylabel(\"HVAP / VAP\")\n",
    "plt.show()"
   ]
  },
  {
   "cell_type": "code",
   "execution_count": null,
   "metadata": {},
   "outputs": [],
   "source": [
    "nwvap = 1 - wvap\n",
    "nwvap = np.flip(nwvap, 1)\n",
    "\n",
    "plt.figure(figsize=(12,6))\n",
    "plt.boxplot(nwvap[:,65:], whis=(1,99), showfliers=False)\n",
    "plt.axhspan(0.40, 0.50, color=\"limegreen\", alpha=0.15, zorder=0)\n",
    "plt.title(\"nWVAP in NC Congressional Districts\")\n",
    "plt.xlabel(\"Indexed Districts\")\n",
    "plt.ylabel(\"nWVAP / VAP\")\n",
    "plt.show()"
   ]
  },
  {
   "cell_type": "code",
   "execution_count": null,
   "metadata": {},
   "outputs": [],
   "source": []
  },
  {
   "cell_type": "markdown",
   "metadata": {},
   "source": [
    "## Short Burst / Biased Run Results"
   ]
  },
  {
   "cell_type": "markdown",
   "metadata": {},
   "source": [
    "### Distributions of observed values and observed values vs. steps"
   ]
  },
  {
   "cell_type": "code",
   "execution_count": null,
   "metadata": {},
   "outputs": [],
   "source": [
    "min(la_runs_bvap[\"10\"][2])"
   ]
  },
  {
   "cell_type": "code",
   "execution_count": null,
   "metadata": {},
   "outputs": [],
   "source": [
    "la_runs_bvap"
   ]
  },
  {
   "cell_type": "code",
   "execution_count": null,
   "metadata": {},
   "outputs": [],
   "source": [
    "plt.hist(la_runs_bvap[\"2\"][2], bins=np.arange(9,32) - 0.5, alpha=0.5)\n",
    "plt.hist(la_runs_bvap[\"5\"][2], bins=np.arange(9,32) - 0.5, alpha=0.5)\n",
    "plt.hist(la_runs_bvap[\"10\"][2], bins=np.arange(9,32) - 0.5, alpha=0.5)\n",
    "plt.hist(la_runs_bvap[\"25\"][2], bins=np.arange(9,32) - 0.5, alpha=0.5)\n",
    "plt.hist(la_runs_bvap[\"50\"][2], bins=np.arange(9,32) - 0.5, alpha=0.5)\n",
    "plt.hist(la_runs_bvap[\"100\"][2], bins=np.arange(9,32) - 0.5, alpha=0.5)\n",
    "plt.hist(la_runs_bvap[\"200\"][2], bins=np.arange(9,32) - 0.5, alpha=0.5)\n",
    "plt.show()"
   ]
  },
  {
   "cell_type": "code",
   "execution_count": null,
   "metadata": {},
   "outputs": [],
   "source": [
    "plt.figure(figsize=(6,8))\n",
    "plt.xlabel(\"Number of majority-BVAP districts\", fontsize=12)\n",
    "plt.ylabel(\"Step\", fontsize=12)\n",
    "for b in [2,5,10,25,50,100,200]:\n",
    "    plt.plot(la_runs_bvap[str(b)][2],range(1000),alpha=0.5, label=\"b = {}\".format(b))\n",
    "plt.legend(fontsize=10)\n",
    "plt.savefig(\"./plots/sb_stepwise.png\", dpi=200, bbox_inches='tight')\n",
    "plt.show()"
   ]
  },
  {
   "cell_type": "code",
   "execution_count": null,
   "metadata": {},
   "outputs": [],
   "source": [
    "plt.figure(figsize=(6,8))\n",
    "plt.xlabel(\"Number of majority-BVAP districts\")\n",
    "plt.ylabel(\"Step\")\n",
    "for b in [2,10, 25]:\n",
    "    plt.plot(la_runs_bvap[str(b)][2],range(1000),alpha=0.5, label=\"b: {}\".format(b))\n",
    "plt.legend()    \n",
    "plt.show()"
   ]
  },
  {
   "cell_type": "code",
   "execution_count": null,
   "metadata": {},
   "outputs": [],
   "source": [
    "plt.figure(figsize=(6,8))\n",
    "plt.xlabel(\"Number of majority-BVAP districts\", fontsize=12)\n",
    "plt.ylabel(\"Step\", fontsize=12)\n",
    "plt.plot(list(map(lambda p: np.sum(p > 0.5), runs[2][\"BVAP\"])),\n",
    "         range(1000),alpha=0.5, label=\"q = 1\".format(p))\n",
    "for p in [0.25, 0.125, 0.0625]:\n",
    "    plt.plot(la_runs_bvap[str(p)][2],range(1000),alpha=0.5, label=\"q = {}\".format(p))\n",
    "plt.legend(loc=\"upper left\",fontsize=10)  \n",
    "plt.savefig(\"./plots/biased_runs_stepwise.png\", dpi=200, bbox_inches='tight')\n",
    "plt.show()"
   ]
  },
  {
   "cell_type": "code",
   "execution_count": null,
   "metadata": {},
   "outputs": [],
   "source": [
    "plt.figure(figsize=(6,8))\n",
    "plt.xlabel(\"Number of majority-BVAP districts\")\n",
    "plt.ylabel(\"Step\")\n",
    "plt.plot(list(map(lambda p: np.sum(p > 0.5), runs[0][\"BVAP\"])),\n",
    "         range(1000),alpha=0.5, label=\"q: 1\".format(p))\n",
    "plt.legend(loc=\"upper left\")  "
   ]
  },
  {
   "cell_type": "markdown",
   "metadata": {},
   "source": [
    "### Expected maximum vs. steps"
   ]
  },
  {
   "cell_type": "code",
   "execution_count": null,
   "metadata": {},
   "outputs": [],
   "source": [
    "cmap_no_light = sns.color_palette(['#e6194b', '#3cb44b', '#ffe119', '#4363d8', \n",
    "                                   '#f58231', '#911eb4', '#46f0f0', '#f032e6', \n",
    "                                   '#808000', '#008080', '#9a6324', '#800000', \n",
    "                                   '#aaffc3', '#000075'], n_colors=11)"
   ]
  },
  {
   "cell_type": "code",
   "execution_count": null,
   "metadata": {},
   "outputs": [],
   "source": []
  },
  {
   "cell_type": "code",
   "execution_count": null,
   "metadata": {},
   "outputs": [],
   "source": [
    "plt.figure(figsize=(12,8))\n",
    "\n",
    "plt.title(\"NC Congressional (14 seats)\",fontsize=14)\n",
    "\n",
    "enacted = 28 # check number\n",
    "\n",
    "sns.lineplot(x=\"Step\", y=\"Maximum\", hue=\"param\",style=\"run-type\", palette=cmap_no_light,\n",
    "             data=df_NC_bvap, ci=\"sd\", estimator='mean', alpha=0.75)\n",
    "plt.axhline(enacted, label=\"Enacted Plan\", c=\"k\", linestyle='dashdot')\n",
    "\n",
    "plt.ylabel(\"Expected Maximum number of BVAP gingles districts\",fontsize=12)\n",
    "plt.xlabel(\"Step\",fontsize=12)\n",
    "plt.legend()\n",
    "plt.savefig(\"./plots/NC_maxes_all_BVAP.png\", dpi=200, bbox_inches='tight')"
   ]
  },
  {
   "cell_type": "code",
   "execution_count": null,
   "metadata": {},
   "outputs": [],
   "source": [
    "# (col, data, en) = (\"nWVAP\",df_NC_nwvap, 31)\n",
    "\n",
    "plt.figure(figsize=(10,8))\n",
    "\n",
    "plt.title(\"NC Congressional (14 seats)\")\n",
    "\n",
    "enacted = 31 # check number\n",
    "\n",
    "sns.lineplot(x=\"Step\", y=\"Maximum\", hue=\"param\", style=\"run-type\", palette=cmap_no_light,\n",
    "             data=df_NC_nwvap, ci=\"sd\", estimator='mean', alpha=0.75)\n",
    "plt.axhline(enacted, label=\"Enacted Plan\", c=\"k\", linestyle='dashdot')\n",
    "plt.ylabel(\"Expected Maximum number of nWVAP gingles districts\")\n",
    "plt.legend()\n",
    "plt.savefig(\"./plots/NC_maxes_all_nWVAP.png\", dpi=200, bbox_inches='tight')"
   ]
  },
  {
   "cell_type": "code",
   "execution_count": null,
   "metadata": {},
   "outputs": [],
   "source": []
  },
  {
   "cell_type": "markdown",
   "metadata": {},
   "source": [
    "## Scratch"
   ]
  },
  {
   "cell_type": "code",
   "execution_count": null,
   "metadata": {},
   "outputs": [],
   "source": [
    "cmap = sns.color_palette(['#e6194b', '#3cb44b', '#ffe119', '#4363d8', \n",
    "                           '#f58231', '#911eb4', '#46f0f0', '#f032e6', \n",
    "                           '#bcf60c', '#fabebe', '#008080', '#e6beff', \n",
    "                           '#9a6324', '#fffac8',  '#800000', '#aaffc3', \n",
    "                           '#808000', '#ffd8b1', '#000075'])"
   ]
  },
  {
   "cell_type": "code",
   "execution_count": null,
   "metadata": {},
   "outputs": [],
   "source": [
    "sns.palplot(cmap)\n",
    "sns.palplot(cmap_no_light)"
   ]
  },
  {
   "cell_type": "code",
   "execution_count": null,
   "metadata": {},
   "outputs": [],
   "source": []
  },
  {
   "cell_type": "code",
   "execution_count": null,
   "metadata": {},
   "outputs": [],
   "source": []
  },
  {
   "cell_type": "code",
   "execution_count": null,
   "metadata": {},
   "outputs": [],
   "source": []
  }
 ],
 "metadata": {
  "kernelspec": {
   "display_name": "Python 3 (ipykernel)",
   "language": "python",
   "name": "python3"
  },
  "language_info": {
   "codemirror_mode": {
    "name": "ipython",
    "version": 3
   },
   "file_extension": ".py",
   "mimetype": "text/x-python",
   "name": "python",
   "nbconvert_exporter": "python",
   "pygments_lexer": "ipython3",
   "version": "3.12.1"
  }
 },
 "nbformat": 4,
 "nbformat_minor": 4
}
